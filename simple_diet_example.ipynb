{
 "cells": [
  {
   "attachments": {},
   "cell_type": "markdown",
   "metadata": {},
   "source": [
    "# Simple diet optimization example"
   ]
  },
  {
   "attachments": {},
   "cell_type": "markdown",
   "metadata": {},
   "source": [
    "#### Objective\n",
    "\n",
    "Our objective is to build a meal that has the following characteristics:\n",
    "-   Contains 25g of proteins\n",
    "- Contains 10g of lipids\n",
    "- Contains 80g of glucids\n",
    "\n",
    "for a minimal cost"
   ]
  },
  {
   "attachments": {},
   "cell_type": "markdown",
   "metadata": {},
   "source": [
    "#### Food at disposition\n",
    "\n",
    "In order to build that, meal we have (with all the macro nutriments & costs expressed for 100g of the element)\n",
    "- Meat: 25g of proteins, 0g of lipids, and 0g of glucids, cost 5€\n",
    "- Pasta: 0g of proteins, 0g of lipids, and 23.4g of glucids, cost 2€\n",
    "- Tomato Sauce: 0g of proteins, 0g of lipids, and 7.5g of glucids, cost 3€\n",
    "- Olive Oil: 0g of proteins, 99.9g of lipids, and 0g of glucids, cost 8€"
   ]
  },
  {
   "attachments": {},
   "cell_type": "markdown",
   "metadata": {},
   "source": [
    "##### Mathematical writing of the objective function\n",
    "The Meal features ($M$) is a function of the decision variables ($w_{x_i}$) which are the quantity of each element (${x_i}$) that we put in the meal, and ${x_{i_P}}$, ${x_{i_L}}$, ${x_{i_G}}$, ${x_{i_C}}$ the respective macro nutriment composition in proteins, lipids, glucids, and cost for each element - hence we can write :\n",
    "$$\n",
    "\n",
    "M = \n",
    "\n",
    "\\left[\\begin{array}{cc} \n",
    "w_{x_1}\\\\\n",
    "w_{x_2}\\\\\n",
    "w_{x_3}\\\\\n",
    "w_{x_4}\\\\\n",
    "\\end{array}\\right]^T\n",
    "\\left[\\begin{array}{cc} \n",
    "x_{1_P} & x_{1_L} & x_{1_G} & x_{1_C}\\\\ \n",
    "x_{2_P} & x_{2_L} & x_{2_G} & x_{2_C}\\\\\n",
    "x_{3_P} & x_{3_L} & x_{3_G} & x_{3_C}\\\\\n",
    "x_{4_P} & x_{4_L} & x_{4_G} & x_{4_C}\\\\\n",
    "\\end{array}\\right]\n",
    "$$\n",
    "\n",
    "Our objective function & constraints are then, with $t_P$, $t_L$, $t_G$, our target nutriments:\n",
    "$$ \n",
    "\\text{minimize }   w_{x_1}x_{1_C} + w_{x_2}x_{2_C} + w_{x_3}x_{3_C} + w_{4_1}x_{4_C} \\\\\n",
    "\\textrm{subject to :} \\\\\n",
    "w_{x_1}, w_{x_2}, w_{x_3}, w_{x_4} > 0 \\\\\n",
    "{w_{x_1}x_{1_P} + w_{x_2}x_{2_P} + w_{x_3}x_{3_P} + w_{4_1}x_{4_P}} > t_P \\\\\n",
    "{w_{x_1}x_{1_L} + w_{x_2}x_{2_L} + w_{x_3}x_{3_L} + w_{4_1}x_{4_L}} > t_L \\\\\n",
    "{w_{x_1}x_{1_G} + w_{x_2}x_{2_G} + w_{x_3}x_{3_G} + w_{4_1}x_{4_G}} > t_G \\\\\n",
    "$$\n",
    "\n",
    "So if we write with the actual constants it's expresssed as:\n",
    "$$\n",
    "\\text{minimize }   5{w_{x_1} + 2w_{x_2} + 3w_{x_3} + 8w_{x_4}}\\\\\n",
    "\\textrm{subject to :} \\\\\n",
    "w_{x_1}, w_{x_2}, w_{x_3}, w_{x_4} > 0 \\\\\n",
    "{25w_{x_1}} > 25 \\\\\n",
    "{99.9w_{x_4}} > 10 \\\\\n",
    "{23.4w_{x_2} + 7.5w_{x_3}} > 80 \\\\\n",
    "$$\n",
    "\n",
    "This is a classic linear optimization problem.\n",
    "\n",
    "Let's solve it with CVXPY"
   ]
  },
  {
   "attachments": {},
   "cell_type": "markdown",
   "metadata": {},
   "source": [
    "##### Imports"
   ]
  },
  {
   "cell_type": "code",
   "execution_count": 1,
   "metadata": {},
   "outputs": [],
   "source": [
    "from cvxopt import matrix, solvers\n",
    "from IPython.display import display\n",
    "import numpy as np\n",
    "import pandas as pd\n"
   ]
  },
  {
   "cell_type": "code",
   "execution_count": 2,
   "metadata": {},
   "outputs": [],
   "source": [
    "pd.options.display.float_format = '{:,.2f}'.format"
   ]
  },
  {
   "cell_type": "markdown",
   "metadata": {},
   "source": [
    "##### Problem data definition"
   ]
  },
  {
   "cell_type": "code",
   "execution_count": 3,
   "metadata": {},
   "outputs": [],
   "source": [
    "minimum_nutriments_df = pd.DataFrame({\n",
    "    \"Protein\": {\"Target\": 25.},\n",
    "    \"Lipid\": {\"Target\": 10.},\n",
    "    \"Glucid\": {\"Target\": 80.} \n",
    "})\n",
    "macro_nutriments_costs_df = pd.DataFrame({\n",
    "    \"Protein\": {\"Meat\": 25., \"Pasta\": 0., \"TomatoSauce\": 0., \"OliveOil\": 0.},\n",
    "    \"Lipid\": {\"Meat\": 0., \"Pasta\": 0., \"TomatoSauce\": 0., \"OliveOil\": 99.9},\n",
    "    \"Glucid\": {\"Meat\": 0., \"Pasta\": 23.4, \"TomatoSauce\": 7.5, \"OliveOil\": 0.},\n",
    "    \"Cost\": {\"Meat\": 5., \"Pasta\": 2., \"TomatoSauce\": 3., \"OliveOil\": 8.}\n",
    "})"
   ]
  },
  {
   "cell_type": "code",
   "execution_count": 4,
   "metadata": {},
   "outputs": [],
   "source": [
    "# Define A Matrix\n",
    "macro_nutriments_df = macro_nutriments_costs_df.drop(columns=\"Cost\")\n",
    "positivity_constraint = pd.DataFrame(-np.identity(4))\n",
    "positivity_constraint.columns = macro_nutriments_df.index\n",
    "positivity_constraint = positivity_constraint.add_prefix(\"PosConstraint_\")\n",
    "positivity_constraint.index = macro_nutriments_df.index\n",
    "A_df = pd.concat([-macro_nutriments_df, positivity_constraint], axis=1).transpose()"
   ]
  },
  {
   "cell_type": "code",
   "execution_count": 5,
   "metadata": {},
   "outputs": [],
   "source": [
    "# Define b Matrix\n",
    "b_df = minimum_nutriments_df\n",
    "pos_constraint_row = pd.DataFrame({column: {\"Target\":0} for column in positivity_constraint.columns})\n",
    "b_df = -pd.concat([b_df, pos_constraint_row], axis=1).transpose()"
   ]
  },
  {
   "cell_type": "code",
   "execution_count": 6,
   "metadata": {},
   "outputs": [],
   "source": [
    "# Define c Matrix (our cost function)\n",
    "c_df = macro_nutriments_costs_df[[\"Cost\"]]"
   ]
  },
  {
   "cell_type": "code",
   "execution_count": 7,
   "metadata": {},
   "outputs": [
    {
     "name": "stdout",
     "output_type": "stream",
     "text": [
      "     pcost       dcost       gap    pres   dres   k/t\n",
      " 0:  1.4959e+01  2.0830e+02  2e+01  4e-02  2e+01  1e+00\n",
      " 1:  1.2668e+01  2.5752e+01  8e-01  2e-03  1e+00  2e-01\n",
      " 2:  1.2652e+01  1.3308e+01  4e-02  1e-04  6e-02  6e-03\n",
      " 3:  1.2639e+01  1.2645e+01  3e-04  1e-06  6e-04  6e-05\n",
      " 4:  1.2638e+01  1.2638e+01  3e-06  1e-08  6e-06  6e-07\n",
      " 5:  1.2638e+01  1.2638e+01  3e-08  1e-10  6e-08  6e-09\n",
      "Optimal solution found.\n"
     ]
    }
   ],
   "source": [
    "# Solve the optimization problem\n",
    "A = matrix(np.array(A_df))\n",
    "b = matrix(np.array(b_df))\n",
    "c = matrix(np.array(c_df))\n",
    "sol=solvers.lp(c,A,b)"
   ]
  },
  {
   "cell_type": "code",
   "execution_count": 8,
   "metadata": {},
   "outputs": [
    {
     "data": {
      "text/html": [
       "<div>\n",
       "<style scoped>\n",
       "    .dataframe tbody tr th:only-of-type {\n",
       "        vertical-align: middle;\n",
       "    }\n",
       "\n",
       "    .dataframe tbody tr th {\n",
       "        vertical-align: top;\n",
       "    }\n",
       "\n",
       "    .dataframe thead th {\n",
       "        text-align: right;\n",
       "    }\n",
       "</style>\n",
       "<table border=\"1\" class=\"dataframe\">\n",
       "  <thead>\n",
       "    <tr style=\"text-align: right;\">\n",
       "      <th></th>\n",
       "      <th>Quantity (g)</th>\n",
       "    </tr>\n",
       "  </thead>\n",
       "  <tbody>\n",
       "    <tr>\n",
       "      <th>Meat</th>\n",
       "      <td>100.00</td>\n",
       "    </tr>\n",
       "    <tr>\n",
       "      <th>Pasta</th>\n",
       "      <td>341.88</td>\n",
       "    </tr>\n",
       "    <tr>\n",
       "      <th>TomatoSauce</th>\n",
       "      <td>-0.00</td>\n",
       "    </tr>\n",
       "    <tr>\n",
       "      <th>OliveOil</th>\n",
       "      <td>10.01</td>\n",
       "    </tr>\n",
       "  </tbody>\n",
       "</table>\n",
       "</div>"
      ],
      "text/plain": [
       "             Quantity (g)\n",
       "Meat               100.00\n",
       "Pasta              341.88\n",
       "TomatoSauce         -0.00\n",
       "OliveOil            10.01"
      ]
     },
     "metadata": {},
     "output_type": "display_data"
    },
    {
     "data": {
      "text/html": [
       "<div>\n",
       "<style scoped>\n",
       "    .dataframe tbody tr th:only-of-type {\n",
       "        vertical-align: middle;\n",
       "    }\n",
       "\n",
       "    .dataframe tbody tr th {\n",
       "        vertical-align: top;\n",
       "    }\n",
       "\n",
       "    .dataframe thead th {\n",
       "        text-align: right;\n",
       "    }\n",
       "</style>\n",
       "<table border=\"1\" class=\"dataframe\">\n",
       "  <thead>\n",
       "    <tr style=\"text-align: right;\">\n",
       "      <th></th>\n",
       "      <th>Cost (€)</th>\n",
       "    </tr>\n",
       "  </thead>\n",
       "  <tbody>\n",
       "    <tr>\n",
       "      <th>Cost (€)</th>\n",
       "      <td>12.64</td>\n",
       "    </tr>\n",
       "  </tbody>\n",
       "</table>\n",
       "</div>"
      ],
      "text/plain": [
       "          Cost (€)\n",
       "Cost (€)     12.64"
      ]
     },
     "metadata": {},
     "output_type": "display_data"
    }
   ],
   "source": [
    "# Display solution\n",
    "sol_df = pd.DataFrame(sol[\"x\"]) * 100\n",
    "sol_df.index = macro_nutriments_costs_df.index\n",
    "sol_df.columns = [\"Quantity (g)\"]\n",
    "obj_df = pd.DataFrame({\"Cost (€)\": {\"Cost (€)\": sol[\"primal objective\"]}})\n",
    "display(sol_df)\n",
    "display(obj_df)"
   ]
  },
  {
   "cell_type": "markdown",
   "metadata": {},
   "source": [
    "#### First Solution\n",
    "\n",
    "We see that, although we have built a meal that has the minimum cost in line with our constraints in terms of nutriments, our meal contains no sauce.\n",
    "This makes sense, given that 1g of pasta gives more glucids than 1g of sauce, for an inferior cost.\n",
    "However, in terms of taste, this isn't optimal, we would ideally like to have some sauce in our meal.\n",
    "Actually we would want the same quantity of pasta of the same quantity of sauce.\n",
    "We can write the following constraint like this:\n",
    "$$w_{x_2}  = w_{x_3}$$\n",
    "or, in constraint optimization terms:\n",
    "$$w_{x_2} - w_{x_3} = 0$$"
   ]
  },
  {
   "cell_type": "code",
   "execution_count": 9,
   "metadata": {},
   "outputs": [],
   "source": [
    "# Add one more constraint in our A matrix\n",
    "pasta_sauce_constraint = pd.DataFrame({\"Meat\": {\"EqConstraint_Meat_Pasta\": 0}, \"Pasta\":{\"EqConstraint_Meat_Pasta\": 1}, \"TomatoSauce\": {\"EqConstraint_Meat_Pasta\": -1}, \"OliveOil\": {\"EqConstraint_Meat_Pasta\": 0}})\n",
    "A_df_new_constraint = pd.concat([A_df, pasta_sauce_constraint], axis=0)"
   ]
  },
  {
   "cell_type": "code",
   "execution_count": 10,
   "metadata": {},
   "outputs": [],
   "source": [
    "# Reflect that in our b Matrix\n",
    "eq_constraint_row = pd.DataFrame({\"Target\": {\"EqConstraint_Meat_Pasta\": 0}})\n",
    "b_df_new_constraint = pd.concat([b_df, eq_constraint_row])"
   ]
  },
  {
   "cell_type": "code",
   "execution_count": 11,
   "metadata": {},
   "outputs": [
    {
     "name": "stdout",
     "output_type": "stream",
     "text": [
      "     pcost       dcost       gap    pres   dres   k/t\n",
      " 0:  1.7258e+01  1.6223e+02  3e+01  6e-02  1e+01  1e+00\n",
      " 1:  1.8836e+01  3.2338e+01  1e+00  6e-03  1e+00  3e-01\n",
      " 2:  1.8757e+01  1.9470e+01  5e-02  3e-04  7e-02  1e-02\n",
      " 3:  1.8746e+01  1.8754e+01  6e-04  3e-06  7e-04  1e-04\n",
      " 4:  1.8746e+01  1.8746e+01  6e-06  3e-08  7e-06  1e-06\n",
      " 5:  1.8746e+01  1.8746e+01  6e-08  3e-10  7e-08  1e-08\n",
      "Optimal solution found.\n"
     ]
    }
   ],
   "source": [
    "# Solve the optimization problem\n",
    "A = matrix(np.array(A_df_new_constraint))\n",
    "b = matrix(np.array(b_df_new_constraint))\n",
    "c = matrix(np.array(c_df))\n",
    "sol=solvers.lp(c,A,b)"
   ]
  },
  {
   "cell_type": "code",
   "execution_count": 12,
   "metadata": {},
   "outputs": [
    {
     "data": {
      "text/html": [
       "<div>\n",
       "<style scoped>\n",
       "    .dataframe tbody tr th:only-of-type {\n",
       "        vertical-align: middle;\n",
       "    }\n",
       "\n",
       "    .dataframe tbody tr th {\n",
       "        vertical-align: top;\n",
       "    }\n",
       "\n",
       "    .dataframe thead th {\n",
       "        text-align: right;\n",
       "    }\n",
       "</style>\n",
       "<table border=\"1\" class=\"dataframe\">\n",
       "  <thead>\n",
       "    <tr style=\"text-align: right;\">\n",
       "      <th></th>\n",
       "      <th>Quantity (g)</th>\n",
       "    </tr>\n",
       "  </thead>\n",
       "  <tbody>\n",
       "    <tr>\n",
       "      <th>Meat</th>\n",
       "      <td>100.00</td>\n",
       "    </tr>\n",
       "    <tr>\n",
       "      <th>Pasta</th>\n",
       "      <td>258.90</td>\n",
       "    </tr>\n",
       "    <tr>\n",
       "      <th>TomatoSauce</th>\n",
       "      <td>258.90</td>\n",
       "    </tr>\n",
       "    <tr>\n",
       "      <th>OliveOil</th>\n",
       "      <td>10.01</td>\n",
       "    </tr>\n",
       "  </tbody>\n",
       "</table>\n",
       "</div>"
      ],
      "text/plain": [
       "             Quantity (g)\n",
       "Meat               100.00\n",
       "Pasta              258.90\n",
       "TomatoSauce        258.90\n",
       "OliveOil            10.01"
      ]
     },
     "metadata": {},
     "output_type": "display_data"
    },
    {
     "data": {
      "text/html": [
       "<div>\n",
       "<style scoped>\n",
       "    .dataframe tbody tr th:only-of-type {\n",
       "        vertical-align: middle;\n",
       "    }\n",
       "\n",
       "    .dataframe tbody tr th {\n",
       "        vertical-align: top;\n",
       "    }\n",
       "\n",
       "    .dataframe thead th {\n",
       "        text-align: right;\n",
       "    }\n",
       "</style>\n",
       "<table border=\"1\" class=\"dataframe\">\n",
       "  <thead>\n",
       "    <tr style=\"text-align: right;\">\n",
       "      <th></th>\n",
       "      <th>Cost (€)</th>\n",
       "    </tr>\n",
       "  </thead>\n",
       "  <tbody>\n",
       "    <tr>\n",
       "      <th>Cost (€)</th>\n",
       "      <td>18.75</td>\n",
       "    </tr>\n",
       "  </tbody>\n",
       "</table>\n",
       "</div>"
      ],
      "text/plain": [
       "          Cost (€)\n",
       "Cost (€)     18.75"
      ]
     },
     "metadata": {},
     "output_type": "display_data"
    }
   ],
   "source": [
    "# Display solution\n",
    "sol_df = pd.DataFrame(sol[\"x\"]) * 100\n",
    "sol_df.index = macro_nutriments_costs_df.index\n",
    "sol_df.columns = [\"Quantity (g)\"]\n",
    "obj_df = pd.DataFrame({\"Cost (€)\": {\"Cost (€)\": sol[\"primal objective\"]}})\n",
    "display(sol_df)\n",
    "display(obj_df)"
   ]
  },
  {
   "cell_type": "markdown",
   "metadata": {},
   "source": [
    "#### Second Solution\n",
    "We now have both pasta and pasta sauce in our meal. We can see that the cost of the first meal (without sauce) is significantly higher than the second one given the constraint that we imposed (pasta sauce significantly more expensive than pasta for lower amount of glucids), but it would probably taste better :)"
   ]
  }
 ],
 "metadata": {
  "kernelspec": {
   "display_name": "Python 3",
   "language": "python",
   "name": "python3"
  },
  "language_info": {
   "codemirror_mode": {
    "name": "ipython",
    "version": 3
   },
   "file_extension": ".py",
   "mimetype": "text/x-python",
   "name": "python",
   "nbconvert_exporter": "python",
   "pygments_lexer": "ipython3",
   "version": "3.11.2"
  },
  "orig_nbformat": 4
 },
 "nbformat": 4,
 "nbformat_minor": 2
}
